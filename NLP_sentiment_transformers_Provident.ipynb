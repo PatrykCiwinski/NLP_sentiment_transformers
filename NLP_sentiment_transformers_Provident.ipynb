{
  "nbformat": 4,
  "nbformat_minor": 0,
  "metadata": {
    "colab": {
      "provenance": [],
      "authorship_tag": "ABX9TyM0x12mMlqhfpYtV+vINqiT",
      "include_colab_link": true
    },
    "kernelspec": {
      "name": "python3",
      "display_name": "Python 3"
    },
    "language_info": {
      "name": "python"
    }
  },
  "cells": [
    {
      "cell_type": "markdown",
      "metadata": {
        "id": "view-in-github",
        "colab_type": "text"
      },
      "source": [
        "<a href=\"https://colab.research.google.com/github/PatrykCiwinski/NLP_sentiment_transformers/blob/main/NLP_sentiment_transformers_Provident.ipynb\" target=\"_parent\"><img src=\"https://colab.research.google.com/assets/colab-badge.svg\" alt=\"Open In Colab\"/></a>"
      ]
    },
    {
      "cell_type": "markdown",
      "source": [
        "#Web-scrapping"
      ],
      "metadata": {
        "id": "i3msYlS5JodV"
      }
    },
    {
      "cell_type": "code",
      "source": [
        "import requests\n",
        "from bs4 import BeautifulSoup\n",
        "\n",
        "header = {\n",
        "    'User-Agent': 'Mozilla/5.0 (Macintosh; Intel Mac OS X 10_10_1) AppleWebKit/537.36 (KHTML, like Gecko) Chrome/39.0.2171.95 Safari/537.36',\n",
        "}\n",
        "URL = \"https://www.zadluzenia.com/provident-opinie/\"\n",
        "page = requests.get(URL,headers=header)\n",
        "\n",
        "soup = BeautifulSoup(page.content, \"html.parser\")"
      ],
      "metadata": {
        "id": "SH7GVW33JfEH"
      },
      "execution_count": 211,
      "outputs": []
    },
    {
      "cell_type": "code",
      "source": [
        "reviews= soup.select('div#comments')"
      ],
      "metadata": {
        "id": "Y5Rdj6PgLarQ"
      },
      "execution_count": 219,
      "outputs": []
    },
    {
      "cell_type": "code",
      "source": [
        "all_comments = []\n",
        "for page_number in range(1, 5):\n",
        "  URL = f\"https://www.zadluzenia.com/provident-opinie/comment-page-{page_number}\"\n",
        "  page = requests.get(URL,headers=header)\n",
        "  soup = BeautifulSoup(page.content, \"html.parser\")\n",
        "  reviews= soup.select('div#comments')\n",
        "    \n",
        "  for review in reviews:\n",
        "          inner_div = soup.select(\"div.comments\")\n",
        "          for text in inner_div:\n",
        "            comments = text.find_all(\"p\")\n",
        "            for comment in comments:\n",
        "              all_comments.append(comment.text.strip())"
      ],
      "metadata": {
        "id": "TKsyL8JlJe6b"
      },
      "execution_count": 233,
      "outputs": []
    },
    {
      "cell_type": "code",
      "source": [
        "len(all_comments)"
      ],
      "metadata": {
        "colab": {
          "base_uri": "https://localhost:8080/"
        },
        "id": "vFcGLFKeJe1H",
        "outputId": "e06a57a5-9434-4eda-fc57-2aee11c3ee9d"
      },
      "execution_count": 235,
      "outputs": [
        {
          "output_type": "execute_result",
          "data": {
            "text/plain": [
              "12"
            ]
          },
          "metadata": {},
          "execution_count": 235
        }
      ]
    },
    {
      "cell_type": "markdown",
      "source": [
        "##Text sentiment using transformers"
      ],
      "metadata": {
        "id": "_l0qkLi9Jim5"
      }
    },
    {
      "cell_type": "code",
      "execution_count": null,
      "metadata": {
        "id": "Y7g6rR29CsvT"
      },
      "outputs": [],
      "source": [
        "!pip install transformers"
      ]
    },
    {
      "cell_type": "code",
      "source": [
        "!pip install xformers"
      ],
      "metadata": {
        "id": "eXFNMUPJFiI0"
      },
      "execution_count": null,
      "outputs": []
    },
    {
      "cell_type": "code",
      "source": [
        "import pandas as pd"
      ],
      "metadata": {
        "id": "ZH9fVPj-s-XG"
      },
      "execution_count": 278,
      "outputs": []
    },
    {
      "cell_type": "code",
      "source": [
        "import tensorflow as tf\n",
        "from transformers import pipeline, AutoTokenizer, TFAutoModelForSequenceClassification\n",
        "import numpy as np"
      ],
      "metadata": {
        "id": "cdvj6FZ9C-Su"
      },
      "execution_count": 253,
      "outputs": []
    },
    {
      "cell_type": "code",
      "source": [
        "model_name=\"bardsai/twitter-sentiment-pl-base\""
      ],
      "metadata": {
        "id": "8uqK-Q28G96-"
      },
      "execution_count": null,
      "outputs": []
    },
    {
      "cell_type": "code",
      "source": [
        "model = TFAutoModelForSequenceClassification.from_pretrained(model_name,from_pt=True)"
      ],
      "metadata": {
        "id": "gFUDe7OLG33i"
      },
      "execution_count": null,
      "outputs": []
    },
    {
      "cell_type": "code",
      "source": [
        "tokenizer = AutoTokenizer.from_pretrained(model_name)"
      ],
      "metadata": {
        "id": "om34MbsJG2jN"
      },
      "execution_count": null,
      "outputs": []
    },
    {
      "cell_type": "code",
      "source": [
        "# clf = pipeline(\"sentiment-analysis\",model=model, tokenizer=tokenizer)"
      ],
      "metadata": {
        "id": "hh3OZaKhFOt1"
      },
      "execution_count": 265,
      "outputs": []
    },
    {
      "cell_type": "code",
      "source": [
        "# clf('nie wiem gdzie ja miałem oczy.Tak sobie')"
      ],
      "metadata": {
        "id": "EFxporogFQ7n"
      },
      "execution_count": 266,
      "outputs": []
    },
    {
      "cell_type": "code",
      "source": [
        "X=all_comments"
      ],
      "metadata": {
        "id": "ihXUDCezFzq0"
      },
      "execution_count": 270,
      "outputs": []
    },
    {
      "cell_type": "code",
      "source": [
        "batch = tokenizer(X,padding=True,truncation=True,max_length=512,return_tensors='tf')"
      ],
      "metadata": {
        "id": "17q9e3tymb4W"
      },
      "execution_count": 271,
      "outputs": []
    },
    {
      "cell_type": "code",
      "source": [
        "outputs = model(**batch)"
      ],
      "metadata": {
        "id": "_vmQAgbNm73w"
      },
      "execution_count": 272,
      "outputs": []
    },
    {
      "cell_type": "code",
      "source": [
        "predictions = tf.nn.softmax(\n",
        "    outputs.logits, axis=1)"
      ],
      "metadata": {
        "id": "0nr9KN0pncvk"
      },
      "execution_count": 273,
      "outputs": []
    },
    {
      "cell_type": "code",
      "source": [
        "preds=np.argmax(predictions, axis=1)"
      ],
      "metadata": {
        "id": "RQwJiIz8nsrN"
      },
      "execution_count": 274,
      "outputs": []
    },
    {
      "cell_type": "code",
      "source": [
        "preds"
      ],
      "metadata": {
        "colab": {
          "base_uri": "https://localhost:8080/"
        },
        "id": "agQmP2TWoGhZ",
        "outputId": "7a06fde5-1990-4420-8ba7-fa3ac030c8bd"
      },
      "execution_count": 275,
      "outputs": [
        {
          "output_type": "execute_result",
          "data": {
            "text/plain": [
              "array([2, 2, 2, 0, 2, 2, 0, 2, 2, 2, 2, 1])"
            ]
          },
          "metadata": {},
          "execution_count": 275
        }
      ]
    },
    {
      "cell_type": "code",
      "source": [
        "labels =[model.config.id2label[id] for id in preds]"
      ],
      "metadata": {
        "id": "n68XsMxwoO8q"
      },
      "execution_count": 276,
      "outputs": []
    },
    {
      "cell_type": "code",
      "source": [
        "df = pd.DataFrame({\n",
        "    'Opinia': X,\n",
        "    'Sentyment': labels\n",
        "},index=np.arange(len(X))+1)"
      ],
      "metadata": {
        "id": "nVZU3gP7sbGp"
      },
      "execution_count": 306,
      "outputs": []
    },
    {
      "cell_type": "code",
      "source": [
        "df"
      ],
      "metadata": {
        "colab": {
          "base_uri": "https://localhost:8080/",
          "height": 426
        },
        "id": "QjIYCX9Jscc9",
        "outputId": "a092549d-80f1-481e-f1f7-f14b023f94a7"
      },
      "execution_count": 307,
      "outputs": [
        {
          "output_type": "execute_result",
          "data": {
            "text/plain": [
              "                                               Opinia Sentyment\n",
              "1   przelałem spłatę pożyczki 4 dni temu wciąż bra...  negative\n",
              "2   Pierwszy i ostatni raz w życiu skorzystałam z ...  negative\n",
              "3                Największa lichwa w RP.\\r\\nZlodzieje  negative\n",
              "4   Oferty są bardzo kuszące, niski procent, nawet...  positive\n",
              "5   firma okradli mnie ,albo ich przedstawiciel na...  negative\n",
              "6   Nigdy nie polecę! Nie bierzcie stąd pożyczek b...  negative\n",
              "7   Od wielu lat  korzystam z pożyczek w Prowidenc...  positive\n",
              "8   Problem ze zwrotem nadpłaty od spłaconej pożyc...  negative\n",
              "9   Banda złodzieji! Biorąc pożyczkę licz się z ty...  negative\n",
              "10  Jak dla mnie złodziejstwo. Ta ich tabelka ze s...  negative\n",
              "11  Lichwa, złodziejskie oprocentowanie, zaciągają...  negative\n",
              "12  Proszę uważać! Sprawa zgłoszona już do UOKiK. ...   neutral"
            ],
            "text/html": [
              "\n",
              "  <div id=\"df-d732ece7-2a07-4969-8661-9b4993a34797\">\n",
              "    <div class=\"colab-df-container\">\n",
              "      <div>\n",
              "<style scoped>\n",
              "    .dataframe tbody tr th:only-of-type {\n",
              "        vertical-align: middle;\n",
              "    }\n",
              "\n",
              "    .dataframe tbody tr th {\n",
              "        vertical-align: top;\n",
              "    }\n",
              "\n",
              "    .dataframe thead th {\n",
              "        text-align: right;\n",
              "    }\n",
              "</style>\n",
              "<table border=\"1\" class=\"dataframe\">\n",
              "  <thead>\n",
              "    <tr style=\"text-align: right;\">\n",
              "      <th></th>\n",
              "      <th>Opinia</th>\n",
              "      <th>Sentyment</th>\n",
              "    </tr>\n",
              "  </thead>\n",
              "  <tbody>\n",
              "    <tr>\n",
              "      <th>1</th>\n",
              "      <td>przelałem spłatę pożyczki 4 dni temu wciąż bra...</td>\n",
              "      <td>negative</td>\n",
              "    </tr>\n",
              "    <tr>\n",
              "      <th>2</th>\n",
              "      <td>Pierwszy i ostatni raz w życiu skorzystałam z ...</td>\n",
              "      <td>negative</td>\n",
              "    </tr>\n",
              "    <tr>\n",
              "      <th>3</th>\n",
              "      <td>Największa lichwa w RP.\\r\\nZlodzieje</td>\n",
              "      <td>negative</td>\n",
              "    </tr>\n",
              "    <tr>\n",
              "      <th>4</th>\n",
              "      <td>Oferty są bardzo kuszące, niski procent, nawet...</td>\n",
              "      <td>positive</td>\n",
              "    </tr>\n",
              "    <tr>\n",
              "      <th>5</th>\n",
              "      <td>firma okradli mnie ,albo ich przedstawiciel na...</td>\n",
              "      <td>negative</td>\n",
              "    </tr>\n",
              "    <tr>\n",
              "      <th>6</th>\n",
              "      <td>Nigdy nie polecę! Nie bierzcie stąd pożyczek b...</td>\n",
              "      <td>negative</td>\n",
              "    </tr>\n",
              "    <tr>\n",
              "      <th>7</th>\n",
              "      <td>Od wielu lat  korzystam z pożyczek w Prowidenc...</td>\n",
              "      <td>positive</td>\n",
              "    </tr>\n",
              "    <tr>\n",
              "      <th>8</th>\n",
              "      <td>Problem ze zwrotem nadpłaty od spłaconej pożyc...</td>\n",
              "      <td>negative</td>\n",
              "    </tr>\n",
              "    <tr>\n",
              "      <th>9</th>\n",
              "      <td>Banda złodzieji! Biorąc pożyczkę licz się z ty...</td>\n",
              "      <td>negative</td>\n",
              "    </tr>\n",
              "    <tr>\n",
              "      <th>10</th>\n",
              "      <td>Jak dla mnie złodziejstwo. Ta ich tabelka ze s...</td>\n",
              "      <td>negative</td>\n",
              "    </tr>\n",
              "    <tr>\n",
              "      <th>11</th>\n",
              "      <td>Lichwa, złodziejskie oprocentowanie, zaciągają...</td>\n",
              "      <td>negative</td>\n",
              "    </tr>\n",
              "    <tr>\n",
              "      <th>12</th>\n",
              "      <td>Proszę uważać! Sprawa zgłoszona już do UOKiK. ...</td>\n",
              "      <td>neutral</td>\n",
              "    </tr>\n",
              "  </tbody>\n",
              "</table>\n",
              "</div>\n",
              "      <button class=\"colab-df-convert\" onclick=\"convertToInteractive('df-d732ece7-2a07-4969-8661-9b4993a34797')\"\n",
              "              title=\"Convert this dataframe to an interactive table.\"\n",
              "              style=\"display:none;\">\n",
              "        \n",
              "  <svg xmlns=\"http://www.w3.org/2000/svg\" height=\"24px\"viewBox=\"0 0 24 24\"\n",
              "       width=\"24px\">\n",
              "    <path d=\"M0 0h24v24H0V0z\" fill=\"none\"/>\n",
              "    <path d=\"M18.56 5.44l.94 2.06.94-2.06 2.06-.94-2.06-.94-.94-2.06-.94 2.06-2.06.94zm-11 1L8.5 8.5l.94-2.06 2.06-.94-2.06-.94L8.5 2.5l-.94 2.06-2.06.94zm10 10l.94 2.06.94-2.06 2.06-.94-2.06-.94-.94-2.06-.94 2.06-2.06.94z\"/><path d=\"M17.41 7.96l-1.37-1.37c-.4-.4-.92-.59-1.43-.59-.52 0-1.04.2-1.43.59L10.3 9.45l-7.72 7.72c-.78.78-.78 2.05 0 2.83L4 21.41c.39.39.9.59 1.41.59.51 0 1.02-.2 1.41-.59l7.78-7.78 2.81-2.81c.8-.78.8-2.07 0-2.86zM5.41 20L4 18.59l7.72-7.72 1.47 1.35L5.41 20z\"/>\n",
              "  </svg>\n",
              "      </button>\n",
              "      \n",
              "  <style>\n",
              "    .colab-df-container {\n",
              "      display:flex;\n",
              "      flex-wrap:wrap;\n",
              "      gap: 12px;\n",
              "    }\n",
              "\n",
              "    .colab-df-convert {\n",
              "      background-color: #E8F0FE;\n",
              "      border: none;\n",
              "      border-radius: 50%;\n",
              "      cursor: pointer;\n",
              "      display: none;\n",
              "      fill: #1967D2;\n",
              "      height: 32px;\n",
              "      padding: 0 0 0 0;\n",
              "      width: 32px;\n",
              "    }\n",
              "\n",
              "    .colab-df-convert:hover {\n",
              "      background-color: #E2EBFA;\n",
              "      box-shadow: 0px 1px 2px rgba(60, 64, 67, 0.3), 0px 1px 3px 1px rgba(60, 64, 67, 0.15);\n",
              "      fill: #174EA6;\n",
              "    }\n",
              "\n",
              "    [theme=dark] .colab-df-convert {\n",
              "      background-color: #3B4455;\n",
              "      fill: #D2E3FC;\n",
              "    }\n",
              "\n",
              "    [theme=dark] .colab-df-convert:hover {\n",
              "      background-color: #434B5C;\n",
              "      box-shadow: 0px 1px 3px 1px rgba(0, 0, 0, 0.15);\n",
              "      filter: drop-shadow(0px 1px 2px rgba(0, 0, 0, 0.3));\n",
              "      fill: #FFFFFF;\n",
              "    }\n",
              "  </style>\n",
              "\n",
              "      <script>\n",
              "        const buttonEl =\n",
              "          document.querySelector('#df-d732ece7-2a07-4969-8661-9b4993a34797 button.colab-df-convert');\n",
              "        buttonEl.style.display =\n",
              "          google.colab.kernel.accessAllowed ? 'block' : 'none';\n",
              "\n",
              "        async function convertToInteractive(key) {\n",
              "          const element = document.querySelector('#df-d732ece7-2a07-4969-8661-9b4993a34797');\n",
              "          const dataTable =\n",
              "            await google.colab.kernel.invokeFunction('convertToInteractive',\n",
              "                                                     [key], {});\n",
              "          if (!dataTable) return;\n",
              "\n",
              "          const docLinkHtml = 'Like what you see? Visit the ' +\n",
              "            '<a target=\"_blank\" href=https://colab.research.google.com/notebooks/data_table.ipynb>data table notebook</a>'\n",
              "            + ' to learn more about interactive tables.';\n",
              "          element.innerHTML = '';\n",
              "          dataTable['output_type'] = 'display_data';\n",
              "          await google.colab.output.renderOutput(dataTable, element);\n",
              "          const docLink = document.createElement('div');\n",
              "          docLink.innerHTML = docLinkHtml;\n",
              "          element.appendChild(docLink);\n",
              "        }\n",
              "      </script>\n",
              "    </div>\n",
              "  </div>\n",
              "  "
            ]
          },
          "metadata": {},
          "execution_count": 307
        }
      ]
    },
    {
      "cell_type": "code",
      "source": [
        "df['Sentyment']=df['Sentyment'].map({'negative':'negatywny','positive':'pozytywny','neutral':'neutralny'})"
      ],
      "metadata": {
        "id": "0xJ61lTDtMIb"
      },
      "execution_count": 308,
      "outputs": []
    },
    {
      "cell_type": "code",
      "source": [
        "df"
      ],
      "metadata": {
        "colab": {
          "base_uri": "https://localhost:8080/",
          "height": 426
        },
        "id": "lfiHiWnAwLb5",
        "outputId": "d2f96f5e-687e-43a3-a974-183870926f8e"
      },
      "execution_count": 309,
      "outputs": [
        {
          "output_type": "execute_result",
          "data": {
            "text/plain": [
              "                                               Opinia  Sentyment\n",
              "1   przelałem spłatę pożyczki 4 dni temu wciąż bra...  negatywny\n",
              "2   Pierwszy i ostatni raz w życiu skorzystałam z ...  negatywny\n",
              "3                Największa lichwa w RP.\\r\\nZlodzieje  negatywny\n",
              "4   Oferty są bardzo kuszące, niski procent, nawet...  pozytywny\n",
              "5   firma okradli mnie ,albo ich przedstawiciel na...  negatywny\n",
              "6   Nigdy nie polecę! Nie bierzcie stąd pożyczek b...  negatywny\n",
              "7   Od wielu lat  korzystam z pożyczek w Prowidenc...  pozytywny\n",
              "8   Problem ze zwrotem nadpłaty od spłaconej pożyc...  negatywny\n",
              "9   Banda złodzieji! Biorąc pożyczkę licz się z ty...  negatywny\n",
              "10  Jak dla mnie złodziejstwo. Ta ich tabelka ze s...  negatywny\n",
              "11  Lichwa, złodziejskie oprocentowanie, zaciągają...  negatywny\n",
              "12  Proszę uważać! Sprawa zgłoszona już do UOKiK. ...  neutralny"
            ],
            "text/html": [
              "\n",
              "  <div id=\"df-8730fe4a-df52-49ea-a30f-fd0c1a8fcef4\">\n",
              "    <div class=\"colab-df-container\">\n",
              "      <div>\n",
              "<style scoped>\n",
              "    .dataframe tbody tr th:only-of-type {\n",
              "        vertical-align: middle;\n",
              "    }\n",
              "\n",
              "    .dataframe tbody tr th {\n",
              "        vertical-align: top;\n",
              "    }\n",
              "\n",
              "    .dataframe thead th {\n",
              "        text-align: right;\n",
              "    }\n",
              "</style>\n",
              "<table border=\"1\" class=\"dataframe\">\n",
              "  <thead>\n",
              "    <tr style=\"text-align: right;\">\n",
              "      <th></th>\n",
              "      <th>Opinia</th>\n",
              "      <th>Sentyment</th>\n",
              "    </tr>\n",
              "  </thead>\n",
              "  <tbody>\n",
              "    <tr>\n",
              "      <th>1</th>\n",
              "      <td>przelałem spłatę pożyczki 4 dni temu wciąż bra...</td>\n",
              "      <td>negatywny</td>\n",
              "    </tr>\n",
              "    <tr>\n",
              "      <th>2</th>\n",
              "      <td>Pierwszy i ostatni raz w życiu skorzystałam z ...</td>\n",
              "      <td>negatywny</td>\n",
              "    </tr>\n",
              "    <tr>\n",
              "      <th>3</th>\n",
              "      <td>Największa lichwa w RP.\\r\\nZlodzieje</td>\n",
              "      <td>negatywny</td>\n",
              "    </tr>\n",
              "    <tr>\n",
              "      <th>4</th>\n",
              "      <td>Oferty są bardzo kuszące, niski procent, nawet...</td>\n",
              "      <td>pozytywny</td>\n",
              "    </tr>\n",
              "    <tr>\n",
              "      <th>5</th>\n",
              "      <td>firma okradli mnie ,albo ich przedstawiciel na...</td>\n",
              "      <td>negatywny</td>\n",
              "    </tr>\n",
              "    <tr>\n",
              "      <th>6</th>\n",
              "      <td>Nigdy nie polecę! Nie bierzcie stąd pożyczek b...</td>\n",
              "      <td>negatywny</td>\n",
              "    </tr>\n",
              "    <tr>\n",
              "      <th>7</th>\n",
              "      <td>Od wielu lat  korzystam z pożyczek w Prowidenc...</td>\n",
              "      <td>pozytywny</td>\n",
              "    </tr>\n",
              "    <tr>\n",
              "      <th>8</th>\n",
              "      <td>Problem ze zwrotem nadpłaty od spłaconej pożyc...</td>\n",
              "      <td>negatywny</td>\n",
              "    </tr>\n",
              "    <tr>\n",
              "      <th>9</th>\n",
              "      <td>Banda złodzieji! Biorąc pożyczkę licz się z ty...</td>\n",
              "      <td>negatywny</td>\n",
              "    </tr>\n",
              "    <tr>\n",
              "      <th>10</th>\n",
              "      <td>Jak dla mnie złodziejstwo. Ta ich tabelka ze s...</td>\n",
              "      <td>negatywny</td>\n",
              "    </tr>\n",
              "    <tr>\n",
              "      <th>11</th>\n",
              "      <td>Lichwa, złodziejskie oprocentowanie, zaciągają...</td>\n",
              "      <td>negatywny</td>\n",
              "    </tr>\n",
              "    <tr>\n",
              "      <th>12</th>\n",
              "      <td>Proszę uważać! Sprawa zgłoszona już do UOKiK. ...</td>\n",
              "      <td>neutralny</td>\n",
              "    </tr>\n",
              "  </tbody>\n",
              "</table>\n",
              "</div>\n",
              "      <button class=\"colab-df-convert\" onclick=\"convertToInteractive('df-8730fe4a-df52-49ea-a30f-fd0c1a8fcef4')\"\n",
              "              title=\"Convert this dataframe to an interactive table.\"\n",
              "              style=\"display:none;\">\n",
              "        \n",
              "  <svg xmlns=\"http://www.w3.org/2000/svg\" height=\"24px\"viewBox=\"0 0 24 24\"\n",
              "       width=\"24px\">\n",
              "    <path d=\"M0 0h24v24H0V0z\" fill=\"none\"/>\n",
              "    <path d=\"M18.56 5.44l.94 2.06.94-2.06 2.06-.94-2.06-.94-.94-2.06-.94 2.06-2.06.94zm-11 1L8.5 8.5l.94-2.06 2.06-.94-2.06-.94L8.5 2.5l-.94 2.06-2.06.94zm10 10l.94 2.06.94-2.06 2.06-.94-2.06-.94-.94-2.06-.94 2.06-2.06.94z\"/><path d=\"M17.41 7.96l-1.37-1.37c-.4-.4-.92-.59-1.43-.59-.52 0-1.04.2-1.43.59L10.3 9.45l-7.72 7.72c-.78.78-.78 2.05 0 2.83L4 21.41c.39.39.9.59 1.41.59.51 0 1.02-.2 1.41-.59l7.78-7.78 2.81-2.81c.8-.78.8-2.07 0-2.86zM5.41 20L4 18.59l7.72-7.72 1.47 1.35L5.41 20z\"/>\n",
              "  </svg>\n",
              "      </button>\n",
              "      \n",
              "  <style>\n",
              "    .colab-df-container {\n",
              "      display:flex;\n",
              "      flex-wrap:wrap;\n",
              "      gap: 12px;\n",
              "    }\n",
              "\n",
              "    .colab-df-convert {\n",
              "      background-color: #E8F0FE;\n",
              "      border: none;\n",
              "      border-radius: 50%;\n",
              "      cursor: pointer;\n",
              "      display: none;\n",
              "      fill: #1967D2;\n",
              "      height: 32px;\n",
              "      padding: 0 0 0 0;\n",
              "      width: 32px;\n",
              "    }\n",
              "\n",
              "    .colab-df-convert:hover {\n",
              "      background-color: #E2EBFA;\n",
              "      box-shadow: 0px 1px 2px rgba(60, 64, 67, 0.3), 0px 1px 3px 1px rgba(60, 64, 67, 0.15);\n",
              "      fill: #174EA6;\n",
              "    }\n",
              "\n",
              "    [theme=dark] .colab-df-convert {\n",
              "      background-color: #3B4455;\n",
              "      fill: #D2E3FC;\n",
              "    }\n",
              "\n",
              "    [theme=dark] .colab-df-convert:hover {\n",
              "      background-color: #434B5C;\n",
              "      box-shadow: 0px 1px 3px 1px rgba(0, 0, 0, 0.15);\n",
              "      filter: drop-shadow(0px 1px 2px rgba(0, 0, 0, 0.3));\n",
              "      fill: #FFFFFF;\n",
              "    }\n",
              "  </style>\n",
              "\n",
              "      <script>\n",
              "        const buttonEl =\n",
              "          document.querySelector('#df-8730fe4a-df52-49ea-a30f-fd0c1a8fcef4 button.colab-df-convert');\n",
              "        buttonEl.style.display =\n",
              "          google.colab.kernel.accessAllowed ? 'block' : 'none';\n",
              "\n",
              "        async function convertToInteractive(key) {\n",
              "          const element = document.querySelector('#df-8730fe4a-df52-49ea-a30f-fd0c1a8fcef4');\n",
              "          const dataTable =\n",
              "            await google.colab.kernel.invokeFunction('convertToInteractive',\n",
              "                                                     [key], {});\n",
              "          if (!dataTable) return;\n",
              "\n",
              "          const docLinkHtml = 'Like what you see? Visit the ' +\n",
              "            '<a target=\"_blank\" href=https://colab.research.google.com/notebooks/data_table.ipynb>data table notebook</a>'\n",
              "            + ' to learn more about interactive tables.';\n",
              "          element.innerHTML = '';\n",
              "          dataTable['output_type'] = 'display_data';\n",
              "          await google.colab.output.renderOutput(dataTable, element);\n",
              "          const docLink = document.createElement('div');\n",
              "          docLink.innerHTML = docLinkHtml;\n",
              "          element.appendChild(docLink);\n",
              "        }\n",
              "      </script>\n",
              "    </div>\n",
              "  </div>\n",
              "  "
            ]
          },
          "metadata": {},
          "execution_count": 309
        }
      ]
    },
    {
      "cell_type": "code",
      "source": [],
      "metadata": {
        "id": "6Z-iNbNQwTDp"
      },
      "execution_count": null,
      "outputs": []
    }
  ]
}